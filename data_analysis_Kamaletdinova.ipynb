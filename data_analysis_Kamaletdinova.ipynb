{
 "cells": [
  {
   "cell_type": "code",
   "execution_count": 1,
   "metadata": {},
   "outputs": [],
   "source": [
    "import numpy as np\n",
    "import pandas as pd\n",
    "\n",
    "from sklearn.cluster import KMeans\n",
    "from sklearn.preprocessing import MinMaxScaler\n",
    "\n",
    "import matplotlib.pyplot as plt\n",
    "import seaborn as sns\n",
    "\n",
    "import datetime as dt\n",
    "\n",
    "%matplotlib inline"
   ]
  },
  {
   "cell_type": "code",
   "execution_count": 2,
   "metadata": {},
   "outputs": [],
   "source": [
    "filename = 'query_result_2019-12-24T07_29_06.659397Z.csv'"
   ]
  },
  {
   "cell_type": "code",
   "execution_count": 3,
   "metadata": {},
   "outputs": [],
   "source": [
    "data = pd.read_csv(filename,\n",
    "                   sep         = ';|,',\n",
    "                   engine      = 'python', \n",
    "                   index_col   = ['Time Start Local Tz'],\n",
    "                   parse_dates = ['Time End', 'Time Start', \n",
    "                                  'Time End Local Tz',\n",
    "                                  'Time Start Local Tz'])"
   ]
  },
  {
   "cell_type": "code",
   "execution_count": 4,
   "metadata": {},
   "outputs": [
    {
     "data": {
      "text/plain": [
       "Time End             datetime64[ns, pytz.FixedOffset(180)]\n",
       "Time End Local Tz    datetime64[ns, pytz.FixedOffset(180)]\n",
       "Time Offset                                          int64\n",
       "Time Start           datetime64[ns, pytz.FixedOffset(180)]\n",
       "User ID                                              int64\n",
       "Value                                              float64\n",
       "dtype: object"
      ]
     },
     "execution_count": 4,
     "metadata": {},
     "output_type": "execute_result"
    }
   ],
   "source": [
    "data.dtypes"
   ]
  },
  {
   "cell_type": "markdown",
   "metadata": {},
   "source": [
    "Рассмотрим исходный набор данных. Колонки 'Time End', 'Time Start', 'Time Offset' в данном случае несут избыточную информацию. Местное время получим из соответствующих колонок, информация о часовом поясе также находится в колонках времени"
   ]
  },
  {
   "cell_type": "code",
   "execution_count": 5,
   "metadata": {},
   "outputs": [
    {
     "data": {
      "text/html": [
       "<div>\n",
       "<style scoped>\n",
       "    .dataframe tbody tr th:only-of-type {\n",
       "        vertical-align: middle;\n",
       "    }\n",
       "\n",
       "    .dataframe tbody tr th {\n",
       "        vertical-align: top;\n",
       "    }\n",
       "\n",
       "    .dataframe thead th {\n",
       "        text-align: right;\n",
       "    }\n",
       "</style>\n",
       "<table border=\"1\" class=\"dataframe\">\n",
       "  <thead>\n",
       "    <tr style=\"text-align: right;\">\n",
       "      <th></th>\n",
       "      <th>Time End</th>\n",
       "      <th>Time End Local Tz</th>\n",
       "      <th>Time Offset</th>\n",
       "      <th>Time Start</th>\n",
       "      <th>User ID</th>\n",
       "      <th>Value</th>\n",
       "    </tr>\n",
       "    <tr>\n",
       "      <th>Time Start Local Tz</th>\n",
       "      <th></th>\n",
       "      <th></th>\n",
       "      <th></th>\n",
       "      <th></th>\n",
       "      <th></th>\n",
       "      <th></th>\n",
       "    </tr>\n",
       "  </thead>\n",
       "  <tbody>\n",
       "    <tr>\n",
       "      <td>2019-05-05 12:39:59+03:00</td>\n",
       "      <td>2019-05-05 09:40:00+03:00</td>\n",
       "      <td>2019-05-05 12:40:00+03:00</td>\n",
       "      <td>10800</td>\n",
       "      <td>2019-05-05 09:39:59+03:00</td>\n",
       "      <td>2166</td>\n",
       "      <td>1.0</td>\n",
       "    </tr>\n",
       "    <tr>\n",
       "      <td>2019-05-05 14:12:51+03:00</td>\n",
       "      <td>2019-05-05 11:13:29+03:00</td>\n",
       "      <td>2019-05-05 14:13:29+03:00</td>\n",
       "      <td>10800</td>\n",
       "      <td>2019-05-05 11:12:51+03:00</td>\n",
       "      <td>2166</td>\n",
       "      <td>34.0</td>\n",
       "    </tr>\n",
       "    <tr>\n",
       "      <td>2019-05-05 15:07:39+03:00</td>\n",
       "      <td>2019-05-05 12:07:42+03:00</td>\n",
       "      <td>2019-05-05 15:07:42+03:00</td>\n",
       "      <td>10800</td>\n",
       "      <td>2019-05-05 12:07:39+03:00</td>\n",
       "      <td>2166</td>\n",
       "      <td>1.0</td>\n",
       "    </tr>\n",
       "    <tr>\n",
       "      <td>2019-05-05 16:04:02+03:00</td>\n",
       "      <td>2019-05-05 13:04:05+03:00</td>\n",
       "      <td>2019-05-05 16:04:05+03:00</td>\n",
       "      <td>10800</td>\n",
       "      <td>2019-05-05 13:04:02+03:00</td>\n",
       "      <td>2166</td>\n",
       "      <td>3.0</td>\n",
       "    </tr>\n",
       "    <tr>\n",
       "      <td>2019-05-05 16:18:13+03:00</td>\n",
       "      <td>2019-05-05 13:18:18+03:00</td>\n",
       "      <td>2019-05-05 16:18:18+03:00</td>\n",
       "      <td>10800</td>\n",
       "      <td>2019-05-05 13:18:13+03:00</td>\n",
       "      <td>2166</td>\n",
       "      <td>6.0</td>\n",
       "    </tr>\n",
       "  </tbody>\n",
       "</table>\n",
       "</div>"
      ],
      "text/plain": [
       "                                           Time End         Time End Local Tz  \\\n",
       "Time Start Local Tz                                                             \n",
       "2019-05-05 12:39:59+03:00 2019-05-05 09:40:00+03:00 2019-05-05 12:40:00+03:00   \n",
       "2019-05-05 14:12:51+03:00 2019-05-05 11:13:29+03:00 2019-05-05 14:13:29+03:00   \n",
       "2019-05-05 15:07:39+03:00 2019-05-05 12:07:42+03:00 2019-05-05 15:07:42+03:00   \n",
       "2019-05-05 16:04:02+03:00 2019-05-05 13:04:05+03:00 2019-05-05 16:04:05+03:00   \n",
       "2019-05-05 16:18:13+03:00 2019-05-05 13:18:18+03:00 2019-05-05 16:18:18+03:00   \n",
       "\n",
       "                           Time Offset                Time Start  User ID  \\\n",
       "Time Start Local Tz                                                         \n",
       "2019-05-05 12:39:59+03:00        10800 2019-05-05 09:39:59+03:00     2166   \n",
       "2019-05-05 14:12:51+03:00        10800 2019-05-05 11:12:51+03:00     2166   \n",
       "2019-05-05 15:07:39+03:00        10800 2019-05-05 12:07:39+03:00     2166   \n",
       "2019-05-05 16:04:02+03:00        10800 2019-05-05 13:04:02+03:00     2166   \n",
       "2019-05-05 16:18:13+03:00        10800 2019-05-05 13:18:13+03:00     2166   \n",
       "\n",
       "                           Value  \n",
       "Time Start Local Tz               \n",
       "2019-05-05 12:39:59+03:00    1.0  \n",
       "2019-05-05 14:12:51+03:00   34.0  \n",
       "2019-05-05 15:07:39+03:00    1.0  \n",
       "2019-05-05 16:04:02+03:00    3.0  \n",
       "2019-05-05 16:18:13+03:00    6.0  "
      ]
     },
     "execution_count": 5,
     "metadata": {},
     "output_type": "execute_result"
    }
   ],
   "source": [
    "data.head(5)"
   ]
  },
  {
   "cell_type": "markdown",
   "metadata": {},
   "source": [
    "Удостоверимся в единственности значения ID пользователя"
   ]
  },
  {
   "cell_type": "code",
   "execution_count": 6,
   "metadata": {},
   "outputs": [
    {
     "data": {
      "text/plain": [
       "1"
      ]
     },
     "execution_count": 6,
     "metadata": {},
     "output_type": "execute_result"
    }
   ],
   "source": [
    "pd.unique(data['User ID']).shape[0]"
   ]
  },
  {
   "cell_type": "code",
   "execution_count": 7,
   "metadata": {},
   "outputs": [
    {
     "data": {
      "text/html": [
       "<div>\n",
       "<style scoped>\n",
       "    .dataframe tbody tr th:only-of-type {\n",
       "        vertical-align: middle;\n",
       "    }\n",
       "\n",
       "    .dataframe tbody tr th {\n",
       "        vertical-align: top;\n",
       "    }\n",
       "\n",
       "    .dataframe thead th {\n",
       "        text-align: right;\n",
       "    }\n",
       "</style>\n",
       "<table border=\"1\" class=\"dataframe\">\n",
       "  <thead>\n",
       "    <tr style=\"text-align: right;\">\n",
       "      <th></th>\n",
       "      <th>Time Offset</th>\n",
       "      <th>User ID</th>\n",
       "      <th>Value</th>\n",
       "    </tr>\n",
       "  </thead>\n",
       "  <tbody>\n",
       "    <tr>\n",
       "      <td>count</td>\n",
       "      <td>39671.000000</td>\n",
       "      <td>39671.0</td>\n",
       "      <td>39671.000000</td>\n",
       "    </tr>\n",
       "    <tr>\n",
       "      <td>mean</td>\n",
       "      <td>10465.599556</td>\n",
       "      <td>2166.0</td>\n",
       "      <td>39.936024</td>\n",
       "    </tr>\n",
       "    <tr>\n",
       "      <td>std</td>\n",
       "      <td>1045.009793</td>\n",
       "      <td>0.0</td>\n",
       "      <td>129.078392</td>\n",
       "    </tr>\n",
       "    <tr>\n",
       "      <td>min</td>\n",
       "      <td>7200.000000</td>\n",
       "      <td>2166.0</td>\n",
       "      <td>1.000000</td>\n",
       "    </tr>\n",
       "    <tr>\n",
       "      <td>25%</td>\n",
       "      <td>10800.000000</td>\n",
       "      <td>2166.0</td>\n",
       "      <td>4.000000</td>\n",
       "    </tr>\n",
       "    <tr>\n",
       "      <td>50%</td>\n",
       "      <td>10800.000000</td>\n",
       "      <td>2166.0</td>\n",
       "      <td>8.000000</td>\n",
       "    </tr>\n",
       "    <tr>\n",
       "      <td>75%</td>\n",
       "      <td>10800.000000</td>\n",
       "      <td>2166.0</td>\n",
       "      <td>49.000000</td>\n",
       "    </tr>\n",
       "    <tr>\n",
       "      <td>max</td>\n",
       "      <td>10800.000000</td>\n",
       "      <td>2166.0</td>\n",
       "      <td>13508.000000</td>\n",
       "    </tr>\n",
       "  </tbody>\n",
       "</table>\n",
       "</div>"
      ],
      "text/plain": [
       "        Time Offset  User ID         Value\n",
       "count  39671.000000  39671.0  39671.000000\n",
       "mean   10465.599556   2166.0     39.936024\n",
       "std     1045.009793      0.0    129.078392\n",
       "min     7200.000000   2166.0      1.000000\n",
       "25%    10800.000000   2166.0      4.000000\n",
       "50%    10800.000000   2166.0      8.000000\n",
       "75%    10800.000000   2166.0     49.000000\n",
       "max    10800.000000   2166.0  13508.000000"
      ]
     },
     "execution_count": 7,
     "metadata": {},
     "output_type": "execute_result"
    }
   ],
   "source": [
    "data.describe()"
   ]
  },
  {
   "cell_type": "markdown",
   "metadata": {},
   "source": [
    "Удалим строки, интервалы активностей которые нулевые (если такие имеются)"
   ]
  },
  {
   "cell_type": "code",
   "execution_count": 8,
   "metadata": {},
   "outputs": [],
   "source": [
    "data.drop(data[data['Time End Local Tz'] - data.index < dt.timedelta(seconds=1)].index, inplace=True)"
   ]
  },
  {
   "cell_type": "markdown",
   "metadata": {},
   "source": [
    "Создадим колонку, соответствующую дате"
   ]
  },
  {
   "cell_type": "code",
   "execution_count": 9,
   "metadata": {},
   "outputs": [
    {
     "data": {
      "text/html": [
       "<div>\n",
       "<style scoped>\n",
       "    .dataframe tbody tr th:only-of-type {\n",
       "        vertical-align: middle;\n",
       "    }\n",
       "\n",
       "    .dataframe tbody tr th {\n",
       "        vertical-align: top;\n",
       "    }\n",
       "\n",
       "    .dataframe thead th {\n",
       "        text-align: right;\n",
       "    }\n",
       "</style>\n",
       "<table border=\"1\" class=\"dataframe\">\n",
       "  <thead>\n",
       "    <tr style=\"text-align: right;\">\n",
       "      <th></th>\n",
       "      <th>Time End</th>\n",
       "      <th>Time End Local Tz</th>\n",
       "      <th>Time Offset</th>\n",
       "      <th>Time Start</th>\n",
       "      <th>User ID</th>\n",
       "      <th>Value</th>\n",
       "      <th>Date</th>\n",
       "    </tr>\n",
       "    <tr>\n",
       "      <th>Time Start Local Tz</th>\n",
       "      <th></th>\n",
       "      <th></th>\n",
       "      <th></th>\n",
       "      <th></th>\n",
       "      <th></th>\n",
       "      <th></th>\n",
       "      <th></th>\n",
       "    </tr>\n",
       "  </thead>\n",
       "  <tbody>\n",
       "    <tr>\n",
       "      <td>2019-05-05 12:39:59+03:00</td>\n",
       "      <td>2019-05-05 09:40:00+03:00</td>\n",
       "      <td>2019-05-05 12:40:00+03:00</td>\n",
       "      <td>10800</td>\n",
       "      <td>2019-05-05 09:39:59+03:00</td>\n",
       "      <td>2166</td>\n",
       "      <td>1.0</td>\n",
       "      <td>2019-05-05</td>\n",
       "    </tr>\n",
       "    <tr>\n",
       "      <td>2019-05-05 14:12:51+03:00</td>\n",
       "      <td>2019-05-05 11:13:29+03:00</td>\n",
       "      <td>2019-05-05 14:13:29+03:00</td>\n",
       "      <td>10800</td>\n",
       "      <td>2019-05-05 11:12:51+03:00</td>\n",
       "      <td>2166</td>\n",
       "      <td>34.0</td>\n",
       "      <td>2019-05-05</td>\n",
       "    </tr>\n",
       "    <tr>\n",
       "      <td>2019-05-05 15:07:39+03:00</td>\n",
       "      <td>2019-05-05 12:07:42+03:00</td>\n",
       "      <td>2019-05-05 15:07:42+03:00</td>\n",
       "      <td>10800</td>\n",
       "      <td>2019-05-05 12:07:39+03:00</td>\n",
       "      <td>2166</td>\n",
       "      <td>1.0</td>\n",
       "      <td>2019-05-05</td>\n",
       "    </tr>\n",
       "    <tr>\n",
       "      <td>2019-05-05 16:04:02+03:00</td>\n",
       "      <td>2019-05-05 13:04:05+03:00</td>\n",
       "      <td>2019-05-05 16:04:05+03:00</td>\n",
       "      <td>10800</td>\n",
       "      <td>2019-05-05 13:04:02+03:00</td>\n",
       "      <td>2166</td>\n",
       "      <td>3.0</td>\n",
       "      <td>2019-05-05</td>\n",
       "    </tr>\n",
       "    <tr>\n",
       "      <td>2019-05-05 16:18:13+03:00</td>\n",
       "      <td>2019-05-05 13:18:18+03:00</td>\n",
       "      <td>2019-05-05 16:18:18+03:00</td>\n",
       "      <td>10800</td>\n",
       "      <td>2019-05-05 13:18:13+03:00</td>\n",
       "      <td>2166</td>\n",
       "      <td>6.0</td>\n",
       "      <td>2019-05-05</td>\n",
       "    </tr>\n",
       "  </tbody>\n",
       "</table>\n",
       "</div>"
      ],
      "text/plain": [
       "                                           Time End         Time End Local Tz  \\\n",
       "Time Start Local Tz                                                             \n",
       "2019-05-05 12:39:59+03:00 2019-05-05 09:40:00+03:00 2019-05-05 12:40:00+03:00   \n",
       "2019-05-05 14:12:51+03:00 2019-05-05 11:13:29+03:00 2019-05-05 14:13:29+03:00   \n",
       "2019-05-05 15:07:39+03:00 2019-05-05 12:07:42+03:00 2019-05-05 15:07:42+03:00   \n",
       "2019-05-05 16:04:02+03:00 2019-05-05 13:04:05+03:00 2019-05-05 16:04:05+03:00   \n",
       "2019-05-05 16:18:13+03:00 2019-05-05 13:18:18+03:00 2019-05-05 16:18:18+03:00   \n",
       "\n",
       "                           Time Offset                Time Start  User ID  \\\n",
       "Time Start Local Tz                                                         \n",
       "2019-05-05 12:39:59+03:00        10800 2019-05-05 09:39:59+03:00     2166   \n",
       "2019-05-05 14:12:51+03:00        10800 2019-05-05 11:12:51+03:00     2166   \n",
       "2019-05-05 15:07:39+03:00        10800 2019-05-05 12:07:39+03:00     2166   \n",
       "2019-05-05 16:04:02+03:00        10800 2019-05-05 13:04:02+03:00     2166   \n",
       "2019-05-05 16:18:13+03:00        10800 2019-05-05 13:18:13+03:00     2166   \n",
       "\n",
       "                           Value       Date  \n",
       "Time Start Local Tz                          \n",
       "2019-05-05 12:39:59+03:00    1.0 2019-05-05  \n",
       "2019-05-05 14:12:51+03:00   34.0 2019-05-05  \n",
       "2019-05-05 15:07:39+03:00    1.0 2019-05-05  \n",
       "2019-05-05 16:04:02+03:00    3.0 2019-05-05  \n",
       "2019-05-05 16:18:13+03:00    6.0 2019-05-05  "
      ]
     },
     "execution_count": 9,
     "metadata": {},
     "output_type": "execute_result"
    }
   ],
   "source": [
    "data['Date'] =  pd.to_datetime(data.index.strftime('%Y-%m-%d'))\n",
    "data.head()"
   ]
  },
  {
   "cell_type": "markdown",
   "metadata": {},
   "source": [
    "Создадим датафрейм, содержащий даты и соответствующие им количества шагов, посчитав это по исходных данным"
   ]
  },
  {
   "cell_type": "code",
   "execution_count": 10,
   "metadata": {},
   "outputs": [
    {
     "data": {
      "text/html": [
       "<div>\n",
       "<style scoped>\n",
       "    .dataframe tbody tr th:only-of-type {\n",
       "        vertical-align: middle;\n",
       "    }\n",
       "\n",
       "    .dataframe tbody tr th {\n",
       "        vertical-align: top;\n",
       "    }\n",
       "\n",
       "    .dataframe thead th {\n",
       "        text-align: right;\n",
       "    }\n",
       "</style>\n",
       "<table border=\"1\" class=\"dataframe\">\n",
       "  <thead>\n",
       "    <tr style=\"text-align: right;\">\n",
       "      <th></th>\n",
       "      <th>Daily Value</th>\n",
       "    </tr>\n",
       "    <tr>\n",
       "      <th>Date</th>\n",
       "      <th></th>\n",
       "    </tr>\n",
       "  </thead>\n",
       "  <tbody>\n",
       "    <tr>\n",
       "      <td>2019-05-02</td>\n",
       "      <td>12977.0</td>\n",
       "    </tr>\n",
       "    <tr>\n",
       "      <td>2019-05-03</td>\n",
       "      <td>17003.0</td>\n",
       "    </tr>\n",
       "    <tr>\n",
       "      <td>2019-05-04</td>\n",
       "      <td>14312.0</td>\n",
       "    </tr>\n",
       "    <tr>\n",
       "      <td>2019-05-05</td>\n",
       "      <td>11124.0</td>\n",
       "    </tr>\n",
       "    <tr>\n",
       "      <td>2019-05-06</td>\n",
       "      <td>7467.0</td>\n",
       "    </tr>\n",
       "  </tbody>\n",
       "</table>\n",
       "</div>"
      ],
      "text/plain": [
       "            Daily Value\n",
       "Date                   \n",
       "2019-05-02      12977.0\n",
       "2019-05-03      17003.0\n",
       "2019-05-04      14312.0\n",
       "2019-05-05      11124.0\n",
       "2019-05-06       7467.0"
      ]
     },
     "execution_count": 10,
     "metadata": {},
     "output_type": "execute_result"
    }
   ],
   "source": [
    "df_daily = data.groupby('Date', as_index = False)['Value'].sum()\n",
    "df_daily.columns = ['Date', 'Daily Value']\n",
    "\n",
    "df_daily['Date'] = pd.to_datetime(df_daily['Date'])\n",
    "df_daily.set_index('Date', inplace=True)\n",
    "df_daily.head()"
   ]
  },
  {
   "cell_type": "markdown",
   "metadata": {},
   "source": [
    "Добавим информацию о месяцах и днях недели для дальнейшего рассмотрения"
   ]
  },
  {
   "cell_type": "code",
   "execution_count": 11,
   "metadata": {},
   "outputs": [
    {
     "data": {
      "text/html": [
       "<div>\n",
       "<style scoped>\n",
       "    .dataframe tbody tr th:only-of-type {\n",
       "        vertical-align: middle;\n",
       "    }\n",
       "\n",
       "    .dataframe tbody tr th {\n",
       "        vertical-align: top;\n",
       "    }\n",
       "\n",
       "    .dataframe thead th {\n",
       "        text-align: right;\n",
       "    }\n",
       "</style>\n",
       "<table border=\"1\" class=\"dataframe\">\n",
       "  <thead>\n",
       "    <tr style=\"text-align: right;\">\n",
       "      <th></th>\n",
       "      <th>Daily Value</th>\n",
       "      <th>Month</th>\n",
       "      <th>Weekday</th>\n",
       "    </tr>\n",
       "    <tr>\n",
       "      <th>Date</th>\n",
       "      <th></th>\n",
       "      <th></th>\n",
       "      <th></th>\n",
       "    </tr>\n",
       "  </thead>\n",
       "  <tbody>\n",
       "    <tr>\n",
       "      <td>2019-05-02</td>\n",
       "      <td>12977.0</td>\n",
       "      <td>May</td>\n",
       "      <td>Thu</td>\n",
       "    </tr>\n",
       "    <tr>\n",
       "      <td>2019-05-03</td>\n",
       "      <td>17003.0</td>\n",
       "      <td>May</td>\n",
       "      <td>Fri</td>\n",
       "    </tr>\n",
       "    <tr>\n",
       "      <td>2019-05-04</td>\n",
       "      <td>14312.0</td>\n",
       "      <td>May</td>\n",
       "      <td>Sat</td>\n",
       "    </tr>\n",
       "    <tr>\n",
       "      <td>2019-05-05</td>\n",
       "      <td>11124.0</td>\n",
       "      <td>May</td>\n",
       "      <td>Sun</td>\n",
       "    </tr>\n",
       "    <tr>\n",
       "      <td>2019-05-06</td>\n",
       "      <td>7467.0</td>\n",
       "      <td>May</td>\n",
       "      <td>Mon</td>\n",
       "    </tr>\n",
       "  </tbody>\n",
       "</table>\n",
       "</div>"
      ],
      "text/plain": [
       "            Daily Value Month Weekday\n",
       "Date                                 \n",
       "2019-05-02      12977.0   May     Thu\n",
       "2019-05-03      17003.0   May     Fri\n",
       "2019-05-04      14312.0   May     Sat\n",
       "2019-05-05      11124.0   May     Sun\n",
       "2019-05-06       7467.0   May     Mon"
      ]
     },
     "execution_count": 11,
     "metadata": {},
     "output_type": "execute_result"
    }
   ],
   "source": [
    "df_daily['Month'] = df_daily.index.strftime('%b')\n",
    "df_daily['Weekday'] = df_daily.index.strftime('%a')\n",
    "df_daily.head()"
   ]
  },
  {
   "cell_type": "markdown",
   "metadata": {},
   "source": [
    "Изобразим ежедневную активность в виде временного ряда"
   ]
  },
  {
   "cell_type": "markdown",
   "metadata": {},
   "source": [
    "Исходя из графика ежедневной активности, предположим, что данные можно расделить на 5 кластеров: два из них характеризуют \"нормальные\" значения, отклоняющиеся в меньшую и большую сторону. Другие два –– \"необычные\" значения (ниже и выше \"нормальных\"). Пятый кластер –– значения-выбросы, находящиеся далеко за пределами обычных "
   ]
  },
  {
   "cell_type": "code",
   "execution_count": 12,
   "metadata": {},
   "outputs": [
    {
     "data": {
      "image/png": "[encoded data removed]",
      "text/plain": [
       "<Figure size 1080x504 with 1 Axes>"
      ]
     },
     "metadata": {
      "needs_background": "light"
     },
     "output_type": "display_data"
    }
   ],
   "source": [
    "pd.plotting.register_matplotlib_converters()\n",
    "\n",
    "plt.figure(figsize=(15, 7))\n",
    "plt.plot(df_daily.index, df_daily['Daily Value'], color='lightcoral')\n",
    "plt.title('Walking activity by days')\n",
    "plt.grid(True)"
   ]
  },
  {
   "cell_type": "markdown",
   "metadata": {},
   "source": [
    "Рассмотрим распределение активности по дням недели. Заметны явные выбросы, но дни необычной активности –– не только они. Необычные дни могут находиться в пределах статистически значимой выборки, в пределах границ усов \\\n",
    "У данного человека бОльшая активность в субботу, но это никак не характеризует остальное население, поэтому не будем опираться на показатель активности по дням недели"
   ]
  },
  {
   "cell_type": "code",
   "execution_count": 13,
   "metadata": {},
   "outputs": [
    {
     "data": {
      "text/plain": [
       "Text(0.5, 1.0, 'Boxplots of values grouped by weekdays')"
      ]
     },
     "execution_count": 13,
     "metadata": {},
     "output_type": "execute_result"
    },
    {
     "data": {
      "image/png": "[encoded data removed]",
      "text/plain": [
       "<Figure size 720x576 with 1 Axes>"
      ]
     },
     "metadata": {
      "needs_background": "light"
     },
     "output_type": "display_data"
    }
   ],
   "source": [
    "plt.figure(figsize = (10, 8))\n",
    "sns.boxplot(data = df_daily, x = 'Weekday', y = 'Daily Value')\n",
    "plt.title('Boxplots of values grouped by weekdays')"
   ]
  },
  {
   "cell_type": "markdown",
   "metadata": {},
   "source": [
    "#### В функции transform_dataframe выделим признаки: \n",
    "'Duration' –– длительность общей активности за день в секундах \\\n",
    "'Daily Value' –– общее количество шагов за день"
   ]
  },
  {
   "cell_type": "code",
   "execution_count": 14,
   "metadata": {},
   "outputs": [],
   "source": [
    "def transform_dataframe(df):\n",
    "    \n",
    "    # Add new columns\n",
    "    df['Date'] =  pd.to_datetime(df.index.strftime('%Y-%m-%d'))\n",
    "    df['Duration'] = (df['Time End'] - df['Time Start']).dt.total_seconds()\n",
    "    \n",
    "    df_dates = df.groupby('Date', as_index = False)['Value'].sum()\n",
    "    df_dates.columns = ['Date', 'Daily Value']\n",
    "\n",
    "    df_dates['Date'] = pd.to_datetime(df_dates['Date'])\n",
    "    df_dates.set_index('Date', inplace = True)\n",
    "    \n",
    "    df_dates['Duration'] = df.groupby('Date', as_index = False)['Duration'].sum()['Duration'].values\n",
    "    \n",
    "    return df_dates"
   ]
  },
  {
   "cell_type": "code",
   "execution_count": 15,
   "metadata": {},
   "outputs": [
    {
     "data": {
      "text/html": [
       "<div>\n",
       "<style scoped>\n",
       "    .dataframe tbody tr th:only-of-type {\n",
       "        vertical-align: middle;\n",
       "    }\n",
       "\n",
       "    .dataframe tbody tr th {\n",
       "        vertical-align: top;\n",
       "    }\n",
       "\n",
       "    .dataframe thead th {\n",
       "        text-align: right;\n",
       "    }\n",
       "</style>\n",
       "<table border=\"1\" class=\"dataframe\">\n",
       "  <thead>\n",
       "    <tr style=\"text-align: right;\">\n",
       "      <th></th>\n",
       "      <th>Daily Value</th>\n",
       "      <th>Duration</th>\n",
       "    </tr>\n",
       "    <tr>\n",
       "      <th>Date</th>\n",
       "      <th></th>\n",
       "      <th></th>\n",
       "    </tr>\n",
       "  </thead>\n",
       "  <tbody>\n",
       "    <tr>\n",
       "      <td>2019-05-02</td>\n",
       "      <td>12977.0</td>\n",
       "      <td>20214.0</td>\n",
       "    </tr>\n",
       "    <tr>\n",
       "      <td>2019-05-03</td>\n",
       "      <td>17003.0</td>\n",
       "      <td>19143.0</td>\n",
       "    </tr>\n",
       "    <tr>\n",
       "      <td>2019-05-04</td>\n",
       "      <td>14312.0</td>\n",
       "      <td>14158.0</td>\n",
       "    </tr>\n",
       "    <tr>\n",
       "      <td>2019-05-05</td>\n",
       "      <td>11124.0</td>\n",
       "      <td>23977.0</td>\n",
       "    </tr>\n",
       "    <tr>\n",
       "      <td>2019-05-06</td>\n",
       "      <td>7467.0</td>\n",
       "      <td>12765.0</td>\n",
       "    </tr>\n",
       "  </tbody>\n",
       "</table>\n",
       "</div>"
      ],
      "text/plain": [
       "            Daily Value  Duration\n",
       "Date                             \n",
       "2019-05-02      12977.0   20214.0\n",
       "2019-05-03      17003.0   19143.0\n",
       "2019-05-04      14312.0   14158.0\n",
       "2019-05-05      11124.0   23977.0\n",
       "2019-05-06       7467.0   12765.0"
      ]
     },
     "execution_count": 15,
     "metadata": {},
     "output_type": "execute_result"
    }
   ],
   "source": [
    "df_transf = transform_dataframe(data)\n",
    "df_transf.head()"
   ]
  },
  {
   "cell_type": "markdown",
   "metadata": {},
   "source": [
    "Выполним кластеризацию по двум признакам, предварительно нормировав данные. Рассмотрим значения параметра k. Выбор k > 5 не целесообразен. \\\n",
    "Стоит отметить, что в данных может не быть явных выбросов (в данном случае день с > 60000 шагов), и наличие 5 кластера ухудшит итоговый результат. Предполагается, что перед кластеризацией можно определить и отбросить очевидные выбросы, а затем заменить число кластеров на 4."
   ]
  },
  {
   "cell_type": "code",
   "execution_count": 16,
   "metadata": {},
   "outputs": [
    {
     "data": {
      "image/png": "[encoded data removed]",
      "text/plain": [
       "<Figure size 576x360 with 1 Axes>"
      ]
     },
     "metadata": {
      "needs_background": "light"
     },
     "output_type": "display_data"
    }
   ],
   "source": [
    "ks = range(1, 10)\n",
    "inertias = []\n",
    "\n",
    "for k in ks:\n",
    "    model = KMeans(n_clusters = k)\n",
    "    scaler = MinMaxScaler()\n",
    "    X_scaled = scaler.fit_transform(df_transf.values)\n",
    "    model.fit(X_scaled)\n",
    "    inertias.append(model.inertia_)\n",
    "\n",
    "plt.figure(figsize = (8, 5))\n",
    "plt.plot(ks, inertias, '-o')\n",
    "plt.xlabel('Number of clusters, k')\n",
    "plt.ylabel('Inertia')\n",
    "plt.grid(True)\n",
    "plt.show()"
   ]
  },
  {
   "cell_type": "markdown",
   "metadata": {},
   "source": [
    "В функции label_clustered помечаем первые два кластера, содержащие наибольшее число наблюдений, как 'usual'"
   ]
  },
  {
   "cell_type": "code",
   "execution_count": 17,
   "metadata": {},
   "outputs": [],
   "source": [
    "def label_clustered(df):\n",
    "    cluster_labels = df['Cluster'].value_counts()\n",
    "    max_1 = cluster_labels.index[0]\n",
    "    max_2 = cluster_labels.index[1]\n",
    "    \n",
    "    usual_labels = np.array([max_1, max_2])\n",
    "\n",
    "    df_marked = pd.DataFrame(index   = df.index, \n",
    "                             columns = ['Activity'], \n",
    "                             dtype   = np.object)\n",
    "    \n",
    "    df_marked['Daily Value'] = df['Daily Value'].values\n",
    "    \n",
    "    df_marked.loc[df['Cluster'].isin(usual_labels), 'Activity'] = 'usual'\n",
    "    df_marked.loc[~df['Cluster'].isin(usual_labels), 'Activity'] = 'not usual' \n",
    "    \n",
    "    return df_marked"
   ]
  },
  {
   "cell_type": "markdown",
   "metadata": {},
   "source": [
    "### Итоговая функция mark_activity"
   ]
  },
  {
   "cell_type": "code",
   "execution_count": 18,
   "metadata": {},
   "outputs": [],
   "source": [
    "def mark_activity(filename, method = 'cluster', plot_statistics = False, plot_clusters = False):\n",
    "    \n",
    "    # Read dataframe\n",
    "    df = pd.read_csv(filename,\n",
    "                     sep         = ';|,',\n",
    "                     engine      = 'python', \n",
    "                     index_col   = ['Time Start Local Tz'],\n",
    "                     parse_dates = ['Time End', 'Time Start', \n",
    "                                    'Time End Local Tz',\n",
    "                                    'Time Start Local Tz'])\n",
    "    \n",
    "    df.drop(df[df['Time End Local Tz'] - df.index < dt.timedelta(seconds = 1)].index, \n",
    "            inplace = True)\n",
    "    \n",
    "    df_dates = transform_dataframe(df)\n",
    "            \n",
    "    # Clustering\n",
    "    k_means = KMeans(n_clusters = 5, random_state = 123)\n",
    "\n",
    "    scaler = MinMaxScaler()\n",
    "    X_scaled = scaler.fit_transform(df_dates.iloc[:, 0:2].values)\n",
    "    k_means.fit(X_scaled)\n",
    "    y_clust = k_means.predict(X_scaled)\n",
    "    \n",
    "    df_dates['Cluster'] = y_clust\n",
    "    \n",
    "    # Plot clusters\n",
    "    if plot_clusters:\n",
    "        plt.figure(figsize=(14, 6))\n",
    "        plt.title(f\"kMeans clustering result\")\n",
    "        \n",
    "        colors = ['red', 'green', 'blue', 'olive', 'indigo']\n",
    "        plt.plot(df_dates.index, \n",
    "                 df_dates['Daily Value'], \n",
    "                 color = 'salmon', \n",
    "                 label = 'Actual values')\n",
    "\n",
    "        for i in range(5):\n",
    "            plt.scatter(df_dates[df_dates['Cluster'] == i].index,\n",
    "                        df_dates.loc[df_dates['Cluster'] == i, 'Daily Value'], \n",
    "                        marker     = 'o', \n",
    "                        color      = colors[i],\n",
    "                        label      = str(i))\n",
    "\n",
    "        plt.legend(loc = 'upper left')\n",
    "        plt.grid(True)\n",
    "    \n",
    "    # Mark days\n",
    "    df_marked = label_clustered(df_dates)\n",
    "    \n",
    "    # Plot daily statistics\n",
    "    if plot_statistics:\n",
    "        plt.figure(figsize=(14, 6))\n",
    "        plt.title(f\"Daily activity with marked unusual days\")\n",
    "\n",
    "        plt.plot(df_dates.index, \n",
    "                 df_dates['Daily Value'], \n",
    "                 color = 'salmon', \n",
    "                 label = 'Actual values')\n",
    "        \n",
    "        plt.scatter(df_marked[df_marked['Activity'] == 'not usual'].index,\n",
    "                    df_marked.loc[df_marked['Activity'] == 'not usual', 'Daily Value'].values, \n",
    "                    marker     = 'o', \n",
    "                    color      = 'teal',\n",
    "                    label      = 'Unusual')\n",
    "\n",
    "        plt.legend(loc = 'upper left')\n",
    "        plt.grid(True)\n",
    "        \n",
    "    \n",
    "    # df_marked.to_csv('marked_activity.csv', encoding = 'utf-8')\n",
    "    df_marked.drop(columns = ['Daily Value'], inplace = True)\n",
    "    \n",
    "    return df_marked"
   ]
  },
  {
   "cell_type": "code",
   "execution_count": 19,
   "metadata": {},
   "outputs": [
    {
     "data": {
      "image/png": "[encoded data removed]",
      "text/plain": [
       "<Figure size 1008x432 with 1 Axes>"
      ]
     },
     "metadata": {
      "needs_background": "light"
     },
     "output_type": "display_data"
    },
    {
     "data": {
      "image/png": "[encoded data removed]",
      "text/plain": [
       "<Figure size 1008x432 with 1 Axes>"
      ]
     },
     "metadata": {
      "needs_background": "light"
     },
     "output_type": "display_data"
    }
   ],
   "source": [
    "df_result = mark_activity(filename, plot_statistics = True, plot_clusters=True)"
   ]
  },
  {
   "cell_type": "code",
   "execution_count": 20,
   "metadata": {},
   "outputs": [
    {
     "data": {
      "text/html": [
       "<div>\n",
       "<style scoped>\n",
       "    .dataframe tbody tr th:only-of-type {\n",
       "        vertical-align: middle;\n",
       "    }\n",
       "\n",
       "    .dataframe tbody tr th {\n",
       "        vertical-align: top;\n",
       "    }\n",
       "\n",
       "    .dataframe thead th {\n",
       "        text-align: right;\n",
       "    }\n",
       "</style>\n",
       "<table border=\"1\" class=\"dataframe\">\n",
       "  <thead>\n",
       "    <tr style=\"text-align: right;\">\n",
       "      <th></th>\n",
       "      <th>Activity</th>\n",
       "    </tr>\n",
       "    <tr>\n",
       "      <th>Date</th>\n",
       "      <th></th>\n",
       "    </tr>\n",
       "  </thead>\n",
       "  <tbody>\n",
       "    <tr>\n",
       "      <td>2019-05-02</td>\n",
       "      <td>usual</td>\n",
       "    </tr>\n",
       "    <tr>\n",
       "      <td>2019-05-03</td>\n",
       "      <td>usual</td>\n",
       "    </tr>\n",
       "    <tr>\n",
       "      <td>2019-05-04</td>\n",
       "      <td>usual</td>\n",
       "    </tr>\n",
       "    <tr>\n",
       "      <td>2019-05-05</td>\n",
       "      <td>usual</td>\n",
       "    </tr>\n",
       "    <tr>\n",
       "      <td>2019-05-06</td>\n",
       "      <td>not usual</td>\n",
       "    </tr>\n",
       "  </tbody>\n",
       "</table>\n",
       "</div>"
      ],
      "text/plain": [
       "             Activity\n",
       "Date                 \n",
       "2019-05-02      usual\n",
       "2019-05-03      usual\n",
       "2019-05-04      usual\n",
       "2019-05-05      usual\n",
       "2019-05-06  not usual"
      ]
     },
     "execution_count": 20,
     "metadata": {},
     "output_type": "execute_result"
    }
   ],
   "source": [
    "df_result.head()"
   ]
  },
  {
   "cell_type": "code",
   "execution_count": null,
   "metadata": {},
   "outputs": [],
   "source": []
  }
 ],
 "metadata": {
  "kernelspec": {
   "display_name": "Python 3",
   "language": "python",
   "name": "python3"
  },
  "language_info": {
   "codemirror_mode": {
    "name": "ipython",
    "version": 3
   },
   "file_extension": ".py",
   "mimetype": "text/x-python",
   "name": "python",
   "nbconvert_exporter": "python",
   "pygments_lexer": "ipython3",
   "version": "3.7.3"
  }
 },
 "nbformat": 4,
 "nbformat_minor": 2
}
